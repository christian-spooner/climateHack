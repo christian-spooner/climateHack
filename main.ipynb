{
 "cells": [
  {
   "cell_type": "code",
   "execution_count": 1,
   "metadata": {},
   "outputs": [],
   "source": [
    "import numpy as np\n",
    "import einops\n",
    "from dataset import ClimateHackDataset\n",
    "from torch.utils.data import DataLoader\n",
    "import torch\n",
    "from loss import MS_SSIMLoss\n",
    "from submission.model import Model\n",
    "import torch.optim as optim\n",
    "from torchinfo import summary\n",
    "\n",
    "data = np.load(\"./data/data.npz\")\n",
    "dataset = data[\"data\"]\n",
    "dataset = einops.rearrange(dataset, 'd t y x -> (d t) y x')\n",
    "dataset = dataset[:720] # (720, 891, 1843)\n",
    "\n",
    "ch_dataset = ClimateHackDataset(dataset) # (320 (NUM_SEQUENCES), 2 (FEATURES, TARGETS), 12/24, 128/64, 128/64)\n",
    "ch_dataloader = DataLoader(ch_dataset, batch_size=4) # (80 (NUM_BATCHES), 2 (FEATURES, TARGETS), 4 (BATCH_SIZE), 12/24, 128/64, 128/64)\n",
    "\n",
    "device = torch.device(\"cuda\" if torch.cuda.is_available() else \"cpu\")\n",
    "model = Model().to(device)\n",
    "optimiser = optim.Adam(model.parameters(), lr=1e-4)\n",
    "criterion = MS_SSIMLoss(channels=1)"
   ]
  },
  {
   "cell_type": "code",
   "execution_count": null,
   "metadata": {},
   "outputs": [],
   "source": [
    "summary(model, input_size=(4, 12, 128, 128))"
   ]
  },
  {
   "cell_type": "code",
   "execution_count": null,
   "metadata": {},
   "outputs": [],
   "source": [
    "losses = []\n",
    "EPOCHS = 500\n",
    "loss = torch.nn.MSELoss()\n",
    "for epoch in range(EPOCHS):\n",
    "    print(f\"Epoch {epoch + 1}\")\n",
    "    running_loss = 0\n",
    "    i = 0\n",
    "    count = 0\n",
    "    batch_features, batch_targets = next(iter(ch_dataloader))\n",
    "    optimiser.zero_grad()\n",
    "    batch_predictions = model(batch_features.to(device))\n",
    "    batch_loss = criterion(batch_predictions, batch_targets.to(device))\n",
    "    batch_loss.backward()\n",
    "    optimiser.step()\n",
    "    running_loss += batch_loss.item() * batch_predictions.shape[0]\n",
    "    count += batch_predictions.shape[0]\n",
    "    i += 1\n",
    "    #print(f\"Completed batch {i} of epoch {epoch + 1} with loss {batch_loss.item()} -- processed {count} image sequences\")\n",
    "    losses.append(running_loss / count)\n",
    "    print(f\"Loss for epoch {epoch + 1}/{EPOCHS}: {losses[-1]}\")"
   ]
  },
  {
   "cell_type": "code",
   "execution_count": null,
   "metadata": {},
   "outputs": [],
   "source": [
    "losses = []\n",
    "EPOCHS = 5\n",
    "for epoch in range(EPOCHS):\n",
    "    print(f\"Epoch {epoch + 1}\")\n",
    "    running_loss = 0\n",
    "    i = 0\n",
    "    count = 0\n",
    "    for batch_features, batch_targets in ch_dataloader:\n",
    "        optimiser.zero_grad()\n",
    "        batch_predictions = model(batch_features.to(device))\n",
    "        batch_loss = criterion(batch_predictions.unsqueeze(dim=2), batch_targets.unsqueeze(dim=2).to(device))\n",
    "        batch_loss.backward()\n",
    "        optimiser.step()\n",
    "        running_loss += batch_loss.item() * batch_predictions.shape[0]\n",
    "        count += batch_predictions.shape[0]\n",
    "        i += 1\n",
    "        #print(f\"Completed batch {i} of epoch {epoch + 1} with loss {batch_loss.item()} -- processed {count} image sequences\")\n",
    "    losses.append(running_loss / count)\n",
    "    print(f\"Loss for epoch {epoch + 1}/{EPOCHS}: {losses[-1]}\")"
   ]
  },
  {
   "cell_type": "code",
   "execution_count": null,
   "metadata": {},
   "outputs": [],
   "source": [
    "torch.save(model.state_dict(), 'submission/model.pt')"
   ]
  }
 ],
 "metadata": {
  "interpreter": {
   "hash": "80e9fab70c1259ef865955fd28ee72a6780f164543640d7222d3fbad5be10549"
  },
  "kernelspec": {
   "display_name": "Python 3.8.10 64-bit ('venv': venv)",
   "language": "python",
   "name": "python3"
  },
  "language_info": {
   "codemirror_mode": {
    "name": "ipython",
    "version": 3
   },
   "file_extension": ".py",
   "mimetype": "text/x-python",
   "name": "python",
   "nbconvert_exporter": "python",
   "pygments_lexer": "ipython3",
   "version": "3.8.10"
  },
  "orig_nbformat": 4
 },
 "nbformat": 4,
 "nbformat_minor": 2
}
