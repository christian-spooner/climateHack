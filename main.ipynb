{
 "cells": [
  {
   "cell_type": "code",
   "execution_count": 1,
   "metadata": {},
   "outputs": [],
   "source": [
    "import numpy as np\n",
    "import einops\n",
    "from dataset import ClimateHackDataset\n",
    "from torch.utils.data import DataLoader\n",
    "import torch\n",
    "from loss import MS_SSIMLoss\n",
    "from submission.model import Model\n",
    "import torch.optim as optim\n",
    "from torchinfo import summary\n",
    "\n",
    "data = np.load(\"./data/data.npz\")\n",
    "dataset = data[\"data\"]\n",
    "dataset = einops.rearrange(dataset, 'd t y x -> (d t) y x')\n",
    "dataset = dataset[:720] # (720, 891, 1843)\n",
    "\n",
    "ch_dataset = ClimateHackDataset(dataset) # (320 (NUM_SEQUENCES), 2 (FEATURES, TARGETS), 12/24, 128/64, 128/64)\n",
    "ch_dataloader = DataLoader(ch_dataset, batch_size=4) # (80 (NUM_BATCHES), 2 (FEATURES, TARGETS), 4 (BATCH_SIZE), 12/24, 128/64, 128/64)\n",
    "\n",
    "device = torch.device(\"cuda\" if torch.cuda.is_available() else \"cpu\")\n",
    "model = Model().to(device)\n",
    "optimiser = optim.Adam(model.parameters(), lr=1e-4)\n",
    "criterion = MS_SSIMLoss(channels=1)"
   ]
  },
  {
   "cell_type": "code",
   "execution_count": 2,
   "metadata": {},
   "outputs": [
    {
     "data": {
      "text/plain": [
       "==========================================================================================\n",
       "Layer (type:depth-idx)                   Output Shape              Param #\n",
       "==========================================================================================\n",
       "Model                                    --                        --\n",
       "├─Conv3d: 1-1                            [4, 4, 9, 63, 63]         504\n",
       "├─MaxPool3d: 1-2                         [4, 4, 9, 31, 31]         --\n",
       "├─Conv3d: 1-3                            [4, 16, 9, 16, 16]        1,744\n",
       "├─MaxPool3d: 1-4                         [4, 16, 9, 8, 8]          --\n",
       "├─Conv3d: 1-5                            [4, 64, 7, 3, 3]          27,712\n",
       "├─MaxPool3d: 1-6                         [4, 64, 7, 1, 1]          --\n",
       "├─Flatten: 1-7                           [4, 448]                  --\n",
       "├─Linear: 1-8                            [4, 16384]                7,356,416\n",
       "==========================================================================================\n",
       "Total params: 7,386,376\n",
       "Trainable params: 7,386,376\n",
       "Non-trainable params: 0\n",
       "Total mult-adds (M): 124.50\n",
       "==========================================================================================\n",
       "Input size (MB): 2.88\n",
       "Forward/backward pass size (MB): 6.41\n",
       "Params size (MB): 29.55\n",
       "Estimated Total Size (MB): 38.83\n",
       "=========================================================================================="
      ]
     },
     "execution_count": 2,
     "metadata": {},
     "output_type": "execute_result"
    }
   ],
   "source": [
    "summary(model, input_size=(4, 11, 128, 128))"
   ]
  },
  {
   "cell_type": "code",
   "execution_count": null,
   "metadata": {},
   "outputs": [],
   "source": [
    "losses = []\n",
    "EPOCHS = 500\n",
    "loss = torch.nn.MSELoss()\n",
    "for epoch in range(EPOCHS):\n",
    "    print(f\"Epoch {epoch + 1}\")\n",
    "    running_loss = 0\n",
    "    i = 0\n",
    "    count = 0\n",
    "    batch_features, batch_targets = next(iter(ch_dataloader)) # [4, 11, 128, 128], [4, 1, 128, 128]\n",
    "    optimiser.zero_grad()\n",
    "    batch_predictions = model(batch_features.to(device)) # [4, 1, 128, 128]\n",
    "    batch_loss = criterion(batch_predictions, batch_targets.to(device))\n",
    "    batch_loss.backward()\n",
    "    optimiser.step()\n",
    "    running_loss += batch_loss.item() * batch_predictions.shape[0]\n",
    "    count += batch_predictions.shape[0]\n",
    "    i += 1\n",
    "    #print(f\"Completed batch {i} of epoch {epoch + 1} with loss {batch_loss.item()} -- processed {count} image sequences\")\n",
    "    losses.append(running_loss / count)\n",
    "    print(f\"Loss for epoch {epoch + 1}/{EPOCHS}: {losses[-1]}\")"
   ]
  },
  {
   "cell_type": "code",
   "execution_count": 5,
   "metadata": {},
   "outputs": [
    {
     "name": "stdout",
     "output_type": "stream",
     "text": [
      "Epoch 1\n",
      "Loss for epoch 1/5: 0.09466870029767355\n",
      "Epoch 2\n",
      "Loss for epoch 2/5: 0.09407109121481577\n",
      "Epoch 3\n",
      "Loss for epoch 3/5: 0.0930822322765986\n",
      "Epoch 4\n",
      "Loss for epoch 4/5: 0.09207746535539627\n",
      "Epoch 5\n",
      "Loss for epoch 5/5: 0.09105079869429271\n"
     ]
    }
   ],
   "source": [
    "losses = []\n",
    "EPOCHS = 5\n",
    "for epoch in range(EPOCHS):\n",
    "    print(f\"Epoch {epoch + 1}\")\n",
    "    running_loss = 0\n",
    "    i = 0\n",
    "    count = 0\n",
    "    for batch_features, batch_targets in ch_dataloader:\n",
    "        optimiser.zero_grad()\n",
    "        batch_predictions = model(batch_features.to(device))\n",
    "        batch_loss = criterion(batch_predictions.unsqueeze(dim=2), batch_targets.unsqueeze(dim=2).to(device))\n",
    "        batch_loss.backward()\n",
    "        optimiser.step()\n",
    "        running_loss += batch_loss.item() * batch_predictions.shape[0]\n",
    "        count += batch_predictions.shape[0]\n",
    "        i += 1\n",
    "        #print(f\"Completed batch {i} of epoch {epoch + 1} with loss {batch_loss.item()} -- processed {count} image sequences\")\n",
    "    losses.append(running_loss / count)\n",
    "    print(f\"Loss for epoch {epoch + 1}/{EPOCHS}: {losses[-1]}\")"
   ]
  },
  {
   "cell_type": "code",
   "execution_count": null,
   "metadata": {},
   "outputs": [],
   "source": [
    "torch.save(model.state_dict(), 'submission/model.pt')"
   ]
  }
 ],
 "metadata": {
  "interpreter": {
   "hash": "80e9fab70c1259ef865955fd28ee72a6780f164543640d7222d3fbad5be10549"
  },
  "kernelspec": {
   "display_name": "Python 3.8.10 64-bit ('venv': venv)",
   "language": "python",
   "name": "python3"
  },
  "language_info": {
   "codemirror_mode": {
    "name": "ipython",
    "version": 3
   },
   "file_extension": ".py",
   "mimetype": "text/x-python",
   "name": "python",
   "nbconvert_exporter": "python",
   "pygments_lexer": "ipython3",
   "version": "3.8.10"
  },
  "orig_nbformat": 4
 },
 "nbformat": 4,
 "nbformat_minor": 2
}
